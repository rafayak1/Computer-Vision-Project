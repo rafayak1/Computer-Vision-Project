{
 "cells": [
  {
   "cell_type": "code",
   "execution_count": 62,
   "metadata": {},
   "outputs": [],
   "source": [
    "import cv2\n",
    "import numpy as np\n",
    "from PIL import Image\n",
    "import matplotlib.pyplot as plt"
   ]
  },
  {
   "cell_type": "code",
   "execution_count": 76,
   "metadata": {},
   "outputs": [
    {
     "data": {
      "text/plain": [
       "(1200, 500, 500, 3)"
      ]
     },
     "execution_count": 76,
     "metadata": {},
     "output_type": "execute_result"
    }
   ],
   "source": [
    "video_path= '/Users/rafaykhan/Desktop/CV/Project/Deliverable_3/video.mp4'\n",
    "frames = list()\n",
    "\n",
    "# Load the video\n",
    "video = cv2.VideoCapture(video_path)\n",
    "\n",
    "while True:\n",
    "  # Read the next frame\n",
    "  ret, frame = video.read()\n",
    "  if not ret:\n",
    "    break\n",
    "\n",
    "  frame = cv2.resize(frame, (500, 500))\n",
    "  # Convert image in BGR format to RGB.\n",
    "  frame = cv2.cvtColor(frame, cv2.COLOR_BGR2RGB)\n",
    "\n",
    "  frames.append(frame)\n",
    "\n",
    "frames = np.array(frames)\n",
    "frames.shape"
   ]
  },
  {
   "cell_type": "code",
   "execution_count": 77,
   "metadata": {},
   "outputs": [],
   "source": [
    "warpPerspective_list = list()"
   ]
  },
  {
   "cell_type": "code",
   "execution_count": 79,
   "metadata": {},
   "outputs": [],
   "source": [
    "homography_matrix_0 = np.array([[-3.68932364e-04, -3.98732829e-03,  9.84008439e-01],\n",
    "                     [-4.89824970e-05, -8.77735907e-04,  1.78061186e-01],\n",
    "                     [-9.99893210e-07, -8.96856626e-06,  2.19072220e-03]])\n",
    "homography_matrices = list()\n",
    "homography_matrices.append(homography_matrix_0)"
   ]
  },
  {
   "cell_type": "code",
   "execution_count": 80,
   "metadata": {},
   "outputs": [],
   "source": [
    "for i in frames:\n",
    "      # Apply homography matrix to the image\n",
    "  result = cv2.warpPerspective(i, homography_matrix_0, (500, 500))\n",
    "  result = np.rot90(np.rot90(np.rot90(result)))\n",
    "  warpPerspective_list.append(result)"
   ]
  },
  {
   "cell_type": "code",
   "execution_count": 81,
   "metadata": {},
   "outputs": [],
   "source": [
    "warpPerspective_list = np.array(warpPerspective_list)"
   ]
  },
  {
   "cell_type": "code",
   "execution_count": 82,
   "metadata": {},
   "outputs": [],
   "source": [
    "#save these images as pngs to the folder: \"adobe_panaroma\"\n",
    "for i in range(len(warpPerspective_list)):\n",
    "    img = Image.fromarray(warpPerspective_list[i], 'RGB')\n",
    "    img.save(f'adobe_panorama/top_view-{i}.png')"
   ]
  }
 ],
 "metadata": {
  "kernelspec": {
   "display_name": "Python 3",
   "language": "python",
   "name": "python3"
  },
  "language_info": {
   "codemirror_mode": {
    "name": "ipython",
    "version": 3
   },
   "file_extension": ".py",
   "mimetype": "text/x-python",
   "name": "python",
   "nbconvert_exporter": "python",
   "pygments_lexer": "ipython3",
   "version": "3.10.6"
  }
 },
 "nbformat": 4,
 "nbformat_minor": 2
}
